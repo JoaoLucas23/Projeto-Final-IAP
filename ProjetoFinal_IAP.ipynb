{
  "nbformat": 4,
  "nbformat_minor": 0,
  "metadata": {
    "colab": {
      "provenance": [],
      "include_colab_link": true
    },
    "kernelspec": {
      "name": "python3",
      "display_name": "Python 3"
    },
    "language_info": {
      "name": "python"
    }
  },
  "cells": [
    {
      "cell_type": "markdown",
      "metadata": {
        "id": "view-in-github",
        "colab_type": "text"
      },
      "source": [
        "<a href=\"https://colab.research.google.com/github/JoaoLucas23/Projeto-Final-IAP/blob/main/ProjetoFinal_IAP.ipynb\" target=\"_parent\"><img src=\"https://colab.research.google.com/assets/colab-badge.svg\" alt=\"Open In Colab\"/></a>"
      ]
    },
    {
      "cell_type": "markdown",
      "source": [
        "\n",
        "\n",
        "*   João Lucas Lage Gonçalves - 2020054552\n",
        "*   João Luiz Lopes Megale - 2020006671\n",
        "*   Lucas Laredo\n",
        "\n"
      ],
      "metadata": {
        "id": "205WvxxCwroE"
      }
    },
    {
      "cell_type": "markdown",
      "source": [
        "# 1. Problema Abordado"
      ],
      "metadata": {
        "id": "N8jsAfVbwsRQ"
      }
    },
    {
      "cell_type": "markdown",
      "source": [
        "**Problema Abordado:** Image to text (Text to image)\n",
        "\n"
      ],
      "metadata": {
        "id": "MpCIDTiiw7kw"
      }
    },
    {
      "cell_type": "markdown",
      "source": [
        "# 2. Rede Implementada"
      ],
      "metadata": {
        "id": "NvpKl3pMxHIe"
      }
    },
    {
      "cell_type": "markdown",
      "source": [],
      "metadata": {
        "id": "Z-fDse-KxYFG"
      }
    },
    {
      "cell_type": "code",
      "source": [
        "class CNN:"
      ],
      "metadata": {
        "id": "cDASwVNUxYid"
      },
      "execution_count": null,
      "outputs": []
    },
    {
      "cell_type": "markdown",
      "source": [
        "# 3. Conjunto de Dados"
      ],
      "metadata": {
        "id": "sBC3G1C_xcG-"
      }
    },
    {
      "cell_type": "markdown",
      "source": [],
      "metadata": {
        "id": "vqFfJePyxe5Y"
      }
    },
    {
      "cell_type": "code",
      "source": [
        "!git clone https://github.com/JoaoLucas23/Projeto-Final-IAP.git"
      ],
      "metadata": {
        "id": "WfVM1MxlxfFw",
        "colab": {
          "base_uri": "https://localhost:8080/"
        },
        "outputId": "0b3b73df-a8e7-47a0-d850-cad77122ac9d"
      },
      "execution_count": 4,
      "outputs": [
        {
          "output_type": "stream",
          "name": "stdout",
          "text": [
            "Cloning into 'Projeto-Final-IAP'...\n",
            "fatal: could not read Username for 'https://github.com': No such device or address\n"
          ]
        }
      ]
    },
    {
      "cell_type": "code",
      "source": [
        "train_images_path = 'Projeto-Final-IAP/images/train'\n",
        "train_labels_path = 'Projeto-Final-IAP/text/train'\n",
        "test_images_path = 'Projeto-Final-IAP/images/test'\n",
        "test_labels_path = 'Projeto-Final-IAP/text/test'"
      ],
      "metadata": {
        "id": "j2qzV1Y63mrV"
      },
      "execution_count": 2,
      "outputs": []
    },
    {
      "cell_type": "markdown",
      "source": [
        "# 4. Treinamento da Rede"
      ],
      "metadata": {
        "id": "9V_Yehxmxj6c"
      }
    },
    {
      "cell_type": "markdown",
      "source": [],
      "metadata": {
        "id": "mCahflsxxlbi"
      }
    },
    {
      "cell_type": "code",
      "source": [],
      "metadata": {
        "id": "W2Y4GSqXxlt9"
      },
      "execution_count": null,
      "outputs": []
    },
    {
      "cell_type": "markdown",
      "source": [
        "# 5. Qualidade dos Resultados"
      ],
      "metadata": {
        "id": "QdZ5DeXexnWc"
      }
    },
    {
      "cell_type": "markdown",
      "source": [],
      "metadata": {
        "id": "1gQN4yFxxpjH"
      }
    },
    {
      "cell_type": "code",
      "source": [],
      "metadata": {
        "id": "fJb8wBgoxpzH"
      },
      "execution_count": null,
      "outputs": []
    },
    {
      "cell_type": "markdown",
      "source": [
        "#6. Discussão Geral"
      ],
      "metadata": {
        "id": "npvNbikXxr6c"
      }
    },
    {
      "cell_type": "markdown",
      "source": [],
      "metadata": {
        "id": "pP-IAiMYxu2A"
      }
    },
    {
      "cell_type": "code",
      "source": [],
      "metadata": {
        "id": "NK2s6JW4xvEO"
      },
      "execution_count": null,
      "outputs": []
    }
  ]
}